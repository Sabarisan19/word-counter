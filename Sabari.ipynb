{
 "cells": [
  {
   "cell_type": "code",
   "execution_count": 5,
   "id": "e3a45ad8-aefc-4ff2-b17c-38816e37b241",
   "metadata": {},
   "outputs": [
    {
     "name": "stdin",
     "output_type": "stream",
     "text": [
      "Enter the filename:  FILE11.txt\n"
     ]
    },
    {
     "name": "stdout",
     "output_type": "stream",
     "text": [
      "Number of words in the document: 134\n",
      "Number of lines in the document: 10\n",
      "Number of characters in the document: 707\n"
     ]
    }
   ],
   "source": [
    "def count_words(filename):\n",
    "    try:\n",
    "        with open(filename, 'r',encoding= 'utf-8') as file:\n",
    "            text = file.read()\n",
    "            words = text.split()\n",
    "            num_words = len(words)\n",
    "            print(\"Number of words in the document:\", num_words)\n",
    "\n",
    "            lines = text.split('\\n')\n",
    "            num_lines = len(lines)\n",
    "            print(\"Number of lines in the document:\", num_lines)\n",
    "\n",
    "            num_chars = len(text)\n",
    "            print(\"Number of characters in the document:\", num_chars)\n",
    "    except FileNotFoundError:\n",
    "        print(\"File not found. Please provide a valid filename.\")\n",
    "\n",
    "def main():\n",
    "    filename = input(\"Enter the filename: \")\n",
    "    count_words(filename)\n",
    "\n",
    "if __name__ == \"__main__\":\n",
    "    main()\n"
   ]
  },
  {
   "cell_type": "code",
   "execution_count": null,
   "id": "4d2173dc-9abb-4ea4-b056-1cb19d010da6",
   "metadata": {},
   "outputs": [],
   "source": []
  }
 ],
 "metadata": {
  "kernelspec": {
   "display_name": "Python 3 (ipykernel)",
   "language": "python",
   "name": "python3"
  },
  "language_info": {
   "codemirror_mode": {
    "name": "ipython",
    "version": 3
   },
   "file_extension": ".py",
   "mimetype": "text/x-python",
   "name": "python",
   "nbconvert_exporter": "python",
   "pygments_lexer": "ipython3",
   "version": "3.11.7"
  }
 },
 "nbformat": 4,
 "nbformat_minor": 5
}
